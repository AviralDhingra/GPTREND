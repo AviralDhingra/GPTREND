{
 "cells": [
  {
   "cell_type": "code",
   "execution_count": 3,
   "metadata": {},
   "outputs": [
    {
     "data": {
      "text/plain": [
       "True"
      ]
     },
     "execution_count": 3,
     "metadata": {},
     "output_type": "execute_result"
    }
   ],
   "source": [
    "from langchain.agents import create_csv_agent\n",
    "from langchain.llms import OpenAI\n",
    "\n",
    "from dotenv import load_dotenv, find_dotenv\n",
    "\n",
    "load_dotenv(find_dotenv())"
   ]
  },
  {
   "cell_type": "code",
   "execution_count": 4,
   "metadata": {},
   "outputs": [],
   "source": [
    "agent = create_csv_agent(OpenAI(temperature=0), 'products_export_1.csv', verbose=True)"
   ]
  },
  {
   "cell_type": "code",
   "execution_count": 5,
   "metadata": {},
   "outputs": [
    {
     "name": "stdout",
     "output_type": "stream",
     "text": [
      "\n",
      "\n",
      "\u001b[1m> Entering new AgentExecutor chain...\u001b[0m\n",
      "\u001b[32;1m\u001b[1;3mThought: I need to count the rows\n",
      "Action: python_repl_ast\n",
      "Action Input: len(df)\u001b[0m\n",
      "Observation: \u001b[36;1m\u001b[1;3m26\u001b[0m\n",
      "Thought:\u001b[32;1m\u001b[1;3m I now know the final answer\n",
      "Final Answer: There are 26 rows.\u001b[0m\n",
      "\n",
      "\u001b[1m> Finished chain.\u001b[0m\n"
     ]
    },
    {
     "data": {
      "text/plain": [
       "'There are 26 rows.'"
      ]
     },
     "execution_count": 5,
     "metadata": {},
     "output_type": "execute_result"
    }
   ],
   "source": [
    "agent.run(\"how many rows are there?\")"
   ]
  },
  {
   "cell_type": "code",
   "execution_count": 8,
   "metadata": {},
   "outputs": [
    {
     "name": "stdout",
     "output_type": "stream",
     "text": [
      "\n",
      "\n",
      "\u001b[1m> Entering new AgentExecutor chain...\u001b[0m\n",
      "\u001b[32;1m\u001b[1;3mThought: I need to find products that are similar to the 3p Fulfilled Snowboard.\n",
      "Action: python_repl_ast\n",
      "Action Input: df[df['Title'] == '3p Fulfilled Snowboard']['Product Category'].unique()\u001b[0m\n",
      "Observation: \u001b[36;1m\u001b[1;3m[]\u001b[0m\n",
      "Thought:\u001b[32;1m\u001b[1;3m There is no product with the title '3p Fulfilled Snowboard' in the dataframe.\n",
      "Action: python_repl_ast\n",
      "Action Input: df[df['Title'].str.contains('Snowboard')]['Product Category'].unique()\u001b[0m\n",
      "Observation: \u001b[36;1m\u001b[1;3mValueError: Cannot mask with non-boolean array containing NA / NaN values\u001b[0m\n",
      "Thought:\u001b[32;1m\u001b[1;3m I need to use a different approach to find the product categories related to snowboards.\n",
      "Action: python_repl_ast\n",
      "Action Input: df[df['Tags'].str.contains('Snowboard')]['Product Category'].unique()\u001b[0m\n",
      "Observation: \u001b[36;1m\u001b[1;3mValueError: Cannot mask with non-boolean array containing NA / NaN values\u001b[0m\n",
      "Thought:\u001b[32;1m\u001b[1;3m I need to use a different approach to find the product categories related to snowboards.\n",
      "Action: python_repl_ast\n",
      "Action Input: df[df['Tags'].str.contains('Snowboard', na=False)]['Product Category'].unique()\u001b[0m\n",
      "Observation: \u001b[36;1m\u001b[1;3m[nan]\u001b[0m\n",
      "Thought:\u001b[32;1m\u001b[1;3m I need to use a different approach to find the product categories related to snowboards.\n",
      "Action: python_repl_ast\n",
      "Action Input: df[df['Tags'].str.contains('Snowboard', na=False)]['Title'].unique()\u001b[0m\n",
      "Observation: \u001b[36;1m\u001b[1;3m['The Multi-managed Snowboard' 'The Multi-location Snowboard'\n",
      " 'The Archived Snowboard' 'The Complete Snowboard' 'The Hidden Snowboard']\u001b[0m\n",
      "Thought:"
     ]
    },
    {
     "name": "stderr",
     "output_type": "stream",
     "text": [
      "Retrying langchain.llms.openai.completion_with_retry.<locals>._completion_with_retry in 4.0 seconds as it raised RateLimitError: The server had an error while processing your request. Sorry about that!.\n",
      "Retrying langchain.llms.openai.completion_with_retry.<locals>._completion_with_retry in 4.0 seconds as it raised RateLimitError: The server had an error while processing your request. Sorry about that!.\n"
     ]
    },
    {
     "name": "stdout",
     "output_type": "stream",
     "text": [
      "\u001b[32;1m\u001b[1;3m I now know the titles of the products related to snowboards.\n",
      "Action: python_repl_ast\n",
      "Action Input: df[df['Title'].isin(['The Multi-managed Snowboard', 'The Multi-location Snowboard', 'The Archived Snowboard', 'The Complete Snowboard', 'The Hidden Snowboard'])]['Product Category'].unique()\u001b[0m\n",
      "Observation: \u001b[36;1m\u001b[1;3m[nan]\u001b[0m\n",
      "Thought:\u001b[32;1m\u001b[1;3m I need to use a different approach to find the product categories related to snowboards.\n",
      "Action: python_repl_ast\n",
      "Action Input: df[df['Title'].isin(['The Multi-managed Snowboard', 'The Multi-location Snowboard', 'The Archived Snowboard', 'The Complete Snowboard', 'The Hidden Snowboard'])]['Tags'].unique()\u001b[0m\n",
      "Observation: \u001b[36;1m\u001b[1;3m['Premium, Snow, Snowboard, Sport, Winter'\n",
      " 'Archived, Premium, Snow, Snowboard, Sport, Winter']\u001b[0m\n",
      "Thought:\u001b[32;1m\u001b[1;3m I now know the tags related to the products related to snowboards.\n",
      "Action: python_repl_ast\n",
      "Action Input: df[df['Tags'].str.contains('Snowboard|Snow|Sport|Winter', na=False)]['Title'].unique()\u001b[0m\n",
      "Observation: \u001b[36;1m\u001b[1;3m['Selling Plans Ski Wax' 'The Collection Snowboard: Liquid'\n",
      " 'The Collection Snowboard: Oxygen' 'The Multi-managed Snowboard'\n",
      " 'The 3p Fulfilled Snowboard' 'The Multi-location Snowboard'\n",
      " 'The Inventory Not Tracked Snowboard' 'The Compare at Price Snowboard'\n",
      " 'The Archived Snowboard' 'The Complete Snowboard'\n",
      " 'The Out of Stock Snowboard' 'The Hidden Snowboard'\n",
      " 'The Collection Snowboard: Hydrogen']\u001b[0m\n",
      "Thought:\u001b[32;1m\u001b[1;3m I now know the titles of the products related to snowboards.\n",
      "Final Answer: The customer that likes the 3p Fulfilled Snowboard might also like The Collection Snowboard: Liquid, The Collection Snowboard: Oxygen, The Multi-managed Snowboard, The Multi-location Snowboard, and The Archived Snowboard.\u001b[0m\n",
      "\n",
      "\u001b[1m> Finished chain.\u001b[0m\n"
     ]
    },
    {
     "data": {
      "text/plain": [
       "'The customer that likes the 3p Fulfilled Snowboard might also like The Collection Snowboard: Liquid, The Collection Snowboard: Oxygen, The Multi-managed Snowboard, The Multi-location Snowboard, and The Archived Snowboard.'"
      ]
     },
     "execution_count": 8,
     "metadata": {},
     "output_type": "execute_result"
    }
   ],
   "source": [
    "agent.run(\"This database contains data on the products an online store is selling. If a customer that visits this website likes the 3p Fulfilled Snowboard, then what else might he want to buy or like? Limit your recommendations to just 5 products.\")"
   ]
  },
  {
   "cell_type": "code",
   "execution_count": null,
   "metadata": {},
   "outputs": [],
   "source": []
  }
 ],
 "metadata": {
  "kernelspec": {
   "display_name": "shopify-product-recommender-P-GIDSaL",
   "language": "python",
   "name": "python3"
  },
  "language_info": {
   "codemirror_mode": {
    "name": "ipython",
    "version": 3
   },
   "file_extension": ".py",
   "mimetype": "text/x-python",
   "name": "python",
   "nbconvert_exporter": "python",
   "pygments_lexer": "ipython3",
   "version": "3.11.3"
  },
  "orig_nbformat": 4
 },
 "nbformat": 4,
 "nbformat_minor": 2
}
